{
 "cells": [
  {
   "cell_type": "markdown",
   "metadata": {},
   "source": [
    "# Arquitectura del computador.\n",
    "## Integrantes\n",
    "### Cristian Andrés Vélez García Cod: 100225374 CC: 1059701136.\n",
    "### Juan Sebastián Bello Cod: 100231371.\n",
    "\n",
    "### Profesor: Blanco Ignacio\n",
    "\n",
    "### POLITÉCNICO GRANCOLOMBIANO \n",
    "### INGENIERIA DE SOFTWARE 2022"
   ]
  },
  {
   "cell_type": "markdown",
   "metadata": {
    "vscode": {
     "languageId": "html"
    }
   },
   "source": [
    "## Entrega n.1\n",
    "### Documento con el diseño del algoritmo, en pseudocódigo o un lenguaje de programación en alto nivel, que dé solución al problema: Determinar si un número es primo o no. Adicionalmente, se debe especificar qué tipos de instrucciones pueden ser requeridas para la solución del problema, de acuerdo con el algoritmo diseñado.</p>"
   ]
  },
  {
   "cell_type": "code",
   "execution_count": null,
   "metadata": {
    "vscode": {
     "languageId": "bat"
    }
   },
   "outputs": [],
   "source": [
    "# programa esPrimo.\n",
    "definir x , n, cont Como Entero\n",
    "entrar numero\n",
    "leer n\n",
    "x = 1\n",
    "contador = 0\n",
    "Mientras x <= n Hacer\n",
    " si n mod x == 0 entonces\n",
    "   cont = cont + 1\n",
    " Fin Si\n",
    " x = x + 1\n",
    "FinMientras\n",
    "si contador == 2 entonces\n",
    "  escribir \"El numero \", n \" es primo\"\n",
    "SiNo\n",
    " Escribir \"El numero\", n, \"no es primo\"\n",
    "fin del programa"
   ]
  },
  {
   "cell_type": "code",
   "execution_count": 2,
   "metadata": {},
   "outputs": [
    {
     "name": "stdout",
     "output_type": "stream",
     "text": [
      "El numero 8  no es primo\n"
     ]
    }
   ],
   "source": [
    "n = int(input(\"Ingrese un numero: \"))\n",
    "x = 1\n",
    "c = 0\n",
    "while x <= n:\n",
    "    if n % x == 0:\n",
    "        c = c + 1\n",
    "    x = x + 1\n",
    "if c == 2:\n",
    "    print(\"El numero \", n, \" es primo👌\")\n",
    "else:\n",
    "    print(\"El numero\", n, \" no es primo😉\")"
   ]
  },
  {
   "cell_type": "markdown",
   "metadata": {},
   "source": [
    "### Especificar qué tipos de instrucciones pueden ser \n",
    "### requeridas para la solución del problema, de acuerdo con el algoritmo diseñado. "
   ]
  },
  {
   "cell_type": "code",
   "execution_count": 9,
   "metadata": {
    "vscode": {
     "languageId": "javascript"
    }
   },
   "outputs": [
    {
     "data": {
      "text/html": [
       "<body><h1><p style=\"color:#e6e923\">Try:</h1></p><h1><p style=\"color:#0a0a07\">Bloque le permite probar un bloque de código en busca de errores.</p></h1><h1><p style=\"color:#e6e923\">Exept:</h1></p><h1><p style=\"color:#0a0a07\">bloque le permite manejar el error.</p></h1></body>"
      ],
      "text/plain": [
       "<IPython.core.display.HTML object>"
      ]
     },
     "metadata": {},
     "output_type": "display_data"
    }
   ],
   "source": [
    "display(HTML('<body><h1><p style=\"color:#e6e923\">Try:</h1></p><h1><p style=\"color:#0a0a07\">Bloque le permite probar un bloque de código en busca de errores.</p></h1><h1><p style=\"color:#e6e923\">Exept:</h1></p><h1><p style=\"color:#0a0a07\">bloque le permite manejar el error.</p></h1></body>'))"
   ]
  },
  {
   "cell_type": "code",
   "execution_count": 5,
   "metadata": {},
   "outputs": [
    {
     "name": "stdout",
     "output_type": "stream",
     "text": [
      "An exception occurred\n"
     ]
    }
   ],
   "source": [
    "try:\n",
    "  print(x)\n",
    "except:\n",
    "  print(\"An exception occurred\")"
   ]
  },
  {
   "cell_type": "code",
   "execution_count": 8,
   "metadata": {
    "vscode": {
     "languageId": "javascript"
    }
   },
   "outputs": [
    {
     "data": {
      "text/html": [
       "<body><h1><p style=\"color:#e6e923\">For:</h1></p><h1><p style=\"color:#0a0a07\">Se usa para iterar sobre una secuencia (es decir, una lista, una tupla, un diccionario, un conjunto o una cadena).</p></h1></body>"
      ],
      "text/plain": [
       "<IPython.core.display.HTML object>"
      ]
     },
     "metadata": {},
     "output_type": "display_data"
    }
   ],
   "source": [
    "display(HTML('<body><h1><p style=\"color:#e6e923\">For:</h1></p><h1><p style=\"color:#0a0a07\">Se usa para iterar sobre una secuencia (es decir, una lista, una tupla, un diccionario, un conjunto o una cadena).</p></h1></body>'))"
   ]
  },
  {
   "cell_type": "code",
   "execution_count": 1,
   "metadata": {},
   "outputs": [
    {
     "name": "stdout",
     "output_type": "stream",
     "text": [
      "apple\n",
      "banana\n",
      "cherry\n"
     ]
    }
   ],
   "source": [
    "fruits = [\"apple\", \"banana\", \"cherry\"]\n",
    "for x in fruits:\n",
    "  print(x) "
   ]
  },
  {
   "cell_type": "code",
   "execution_count": null,
   "metadata": {
    "vscode": {
     "languageId": "bat"
    }
   },
   "outputs": [],
   "source": [
    "Python admite las condiciones lógicas habituales de las matemáticas:\n",
    "\n",
    "Es igual a : a == b\n",
    "No es igual a: a != b\n",
    "Menos que: a < b\n",
    "Menor o igual que: a <= b\n",
    "Mayor que: a > b\n",
    "Mayor o igual que: a >= b\n",
    "\n",
    "Estas condiciones se pueden usar de varias maneras, más comúnmente en \"sentencias if\" y bucles.\n",
    "\n",
    "Una \"sentencia if\" se escribe utilizando la palabra clave if ."
   ]
  },
  {
   "cell_type": "code",
   "execution_count": 3,
   "metadata": {},
   "outputs": [
    {
     "name": "stdout",
     "output_type": "stream",
     "text": [
      "b es mayor que a\n"
     ]
    }
   ],
   "source": [
    "# If/else:\n",
    "a = 33\n",
    "b = 200\n",
    "if b > a:\n",
    "  print(\"b es mayor que a\")"
   ]
  },
  {
   "cell_type": "code",
   "execution_count": 6,
   "metadata": {},
   "outputs": [
    {
     "name": "stdout",
     "output_type": "stream",
     "text": [
      "a y b son iguales\n"
     ]
    }
   ],
   "source": [
    "a = 33\n",
    "b = 33\n",
    "if b > a:\n",
    "  print(\"b es mayor que a\")\n",
    "elif a == b:\n",
    "  print(\"a y b son iguales\")"
   ]
  },
  {
   "cell_type": "code",
   "execution_count": 7,
   "metadata": {},
   "outputs": [
    {
     "name": "stdout",
     "output_type": "stream",
     "text": [
      "a es mayor que b\n"
     ]
    }
   ],
   "source": [
    "a = 200\n",
    "b = 33\n",
    "if b > a:\n",
    "  print(\"b es mayor que a\")\n",
    "elif a == b:\n",
    "  print(\"a y b son iguales\")\n",
    "else:\n",
    "  print(\"a es mayor que b\")"
   ]
  },
  {
   "cell_type": "markdown",
   "metadata": {},
   "source": [
    "## Conclucion:\n",
    "#### Estructuras de control, condicionales y bucles son parte fundamental de cualquier lenguaje. Sin ellas, las instrucciones de un programa solo podrıan ejecutarse en el orden en que estan escritas (orden secuencial). Las estructuras de control permiten modificar este orden. Permiten que se ejecuten conjuntos distintos de instrucciones, en funcion de que se verifique o no determinada condición. Tambien permiten que se ejecute repetidamente un conjunto de instrucciones, bien un número predeterminado de veces, o bien hasta que se verifique una determinada condición."
   ]
  }
 ],
 "metadata": {
  "kernelspec": {
   "display_name": "Python 3.9.12 ('base')",
   "language": "python",
   "name": "python3"
  },
  "language_info": {
   "codemirror_mode": {
    "name": "ipython",
    "version": 3
   },
   "file_extension": ".py",
   "mimetype": "text/x-python",
   "name": "python",
   "nbconvert_exporter": "python",
   "pygments_lexer": "ipython3",
   "version": "3.9.12"
  },
  "orig_nbformat": 4,
  "vscode": {
   "interpreter": {
    "hash": "7232623e3e40e67dde88d9b1ba5d0b62fb322b1bb560afd3924516372b70d526"
   }
  }
 },
 "nbformat": 4,
 "nbformat_minor": 2
}
