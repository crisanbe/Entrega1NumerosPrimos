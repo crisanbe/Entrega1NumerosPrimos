{
 "cells": [
  {
   "cell_type": "markdown",
   "metadata": {},
   "source": [
    "# Arquitectura del computador.\n",
    "## Integrantes\n",
    "### Cristian Andrés Vélez García Cod: 100225374 CC: 1059701136.\n",
    "### Juan Sebastián Bello Cod: 100231371."
   ]
  },
  {
   "cell_type": "markdown",
   "metadata": {},
   "source": [
    "# Entrega n.1\n",
    "<h4>Documento con el diseño del algoritmo, en pseudocódigo o un lenguaje de\n",
    "programación en alto nivel, que dé solución al problema: Determinar si un número es\n",
    "primo o no. Adicionalmente, se debe especificar qué tipos de instrucciones pueden ser\n",
    "requeridas para la solución del problema, de acuerdo con el algoritmo diseñado.</h4> "
   ]
  },
  {
   "cell_type": "code",
   "execution_count": null,
   "metadata": {
    "vscode": {
     "languageId": "html"
    }
   },
   "outputs": [],
   "source": [
    "<div>\n",
    "  <div>programa esPrimo.</div>\n",
    "  <div>definir x , n, cont Como Entero</div>\n",
    "  <div>entrar numero</div>\n",
    "  <div>leer n</div>\n",
    "  <div>x = 1</div>\n",
    "  <div>contador = 0</div>\n",
    "  <div>Mientras x &lt;= n Hacer</div>\n",
    "  <div>&nbsp;si n mod x == 0 entonces</div>\n",
    "  <div>&nbsp; &nbsp;cont = cont + 1</div>\n",
    "  <div>&nbsp;Fin Si</div>\n",
    "  <div>&nbsp;x = x + 1</div>\n",
    "  <div>FinMientras</div>\n",
    "  <div>si contador == 2 entonces</div>\n",
    "  <div>&nbsp; escribir \"El numero \", n \" es primo\"</div>\n",
    "  <div>SiNo</div>\n",
    "  <div>&nbsp;Escribir \"El numero\", n, \"no es primo\"</div>\n",
    "  <div>fin del programa</div>\n",
    "  </div>\n"
   ]
  },
  {
   "cell_type": "code",
   "execution_count": 2,
   "metadata": {},
   "outputs": [
    {
     "name": "stdout",
     "output_type": "stream",
     "text": [
      "El numero 8  no es primo\n"
     ]
    }
   ],
   "source": [
    "n = int(input(\"Ingrese un numero: \"))\n",
    "x = 1\n",
    "c = 0\n",
    "while x <= n:\n",
    "    if n % x == 0:\n",
    "        c = c + 1\n",
    "    x = x + 1\n",
    "if c == 2:\n",
    "    print(\"El numero \", n, \" es primo\")\n",
    "else:\n",
    "    print(\"El numero\", n, \" no es primo\")"
   ]
  }
 ],
 "metadata": {
  "kernelspec": {
   "display_name": "Python 3.10.7 64-bit",
   "language": "python",
   "name": "python3"
  },
  "language_info": {
   "codemirror_mode": {
    "name": "ipython",
    "version": 3
   },
   "file_extension": ".py",
   "mimetype": "text/x-python",
   "name": "python",
   "nbconvert_exporter": "python",
   "pygments_lexer": "ipython3",
   "version": "3.10.7"
  },
  "orig_nbformat": 4,
  "vscode": {
   "interpreter": {
    "hash": "8b319d56329e0093dabb961aa84ee1da2e4282434c8deb1dad16236d27ac975e"
   }
  }
 },
 "nbformat": 4,
 "nbformat_minor": 2
}
