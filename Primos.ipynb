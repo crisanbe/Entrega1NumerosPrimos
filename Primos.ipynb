{
 "cells": [
  {
   "cell_type": "markdown",
   "metadata": {},
   "source": [
    "# Arquitectura del computador.\n",
    "## Integrantes\n",
    "### Cristian Andrés Vélez García (1059701136)\n",
    "### Juan Sebastián Bello (100231371)"
   ]
  },
  {
   "cell_type": "markdown",
   "metadata": {},
   "source": [
    "# Entrega n.1\n",
    "<h4>Documento con el diseño del algoritmo, en pseudocódigo o un lenguaje de\n",
    "programación en alto nivel, que dé solución al problema: Determinar si un número es\n",
    "primo o no. Adicionalmente, se debe especificar qué tipos de instrucciones pueden ser\n",
    "requeridas para la solución del problema, de acuerdo con el algoritmo diseñado.</h4>"
   ]
  },
  {
   "cell_type": "code",
   "execution_count": null,
   "metadata": {
    "vscode": {
     "languageId": "bat"
    }
   },
   "outputs": [],
   "source": [
    "programa esPrimo\n",
    "definir x , n, cont Como Entero\n",
    "entrar numero\n",
    "leer n\n",
    "x = 1\n",
    "contador = 0\n",
    "Mientras x <= n Hacer\n",
    " si n mod x == 0 entonces\n",
    "   cont = cont + 1\n",
    " Fin Si\n",
    " x = x + 1\n",
    "FinMientras\n",
    "si contador == 2 entonces\n",
    "  escribir \"El numero \", n \" es primo\"\n",
    "SiNo\n",
    " Escribir \"El numero\", n, \"no es primo\"\n",
    "fin del programa"
   ]
  },
  {
   "cell_type": "code",
   "execution_count": null,
   "metadata": {},
   "outputs": [
    {
     "name": "stdout",
     "output_type": "stream",
     "text": [
      "El numero  5  es primo\n"
     ]
    }
   ],
   "source": [
    "n = int(input(\"Ingrese un numero: \"))\n",
    "x = 1\n",
    "c = 0\n",
    "while x <= n:\n",
    "    if n % x == 0:\n",
    "        c = c + 1\n",
    "    x = x + 1\n",
    "if c == 2:\n",
    "    print(\"El numero \", n, \" es primo\")\n",
    "else:\n",
    "    print(\"El numero\", n, \" no es primo\")\n"
   ]
  }
 ],
 "metadata": {
  "kernelspec": {
   "display_name": "Python 3.10.7 64-bit",
   "language": "python",
   "name": "python3"
  },
  "language_info": {
   "codemirror_mode": {
    "name": "ipython",
    "version": 3
   },
   "file_extension": ".py",
   "mimetype": "text/x-python",
   "name": "python",
   "nbconvert_exporter": "python",
   "pygments_lexer": "ipython3",
   "version": "3.10.7"
  },
  "orig_nbformat": 4,
  "vscode": {
   "interpreter": {
    "hash": "8b319d56329e0093dabb961aa84ee1da2e4282434c8deb1dad16236d27ac975e"
   }
  }
 },
 "nbformat": 4,
 "nbformat_minor": 2
}
